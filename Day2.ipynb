{
 "cells": [
  {
   "cell_type": "code",
   "execution_count": 19,
   "metadata": {},
   "outputs": [],
   "source": [
    "outcomeScore = {\n",
    "    'A X':3,\n",
    "    'A Y':6,\n",
    "    'A Z':0,\n",
    "    'B X':0,\n",
    "    'B Y':3,\n",
    "    'B Z':6,\n",
    "    'C X':6,\n",
    "    'C Y':0,\n",
    "    'C Z':3\n",
    "\n",
    "}\n",
    "\n",
    "shapeScore = {\n",
    "    'X':1,\n",
    "    'Y':2,\n",
    "    'Z':3\n",
    "}"
   ]
  },
  {
   "cell_type": "code",
   "execution_count": 33,
   "metadata": {},
   "outputs": [
    {
     "name": "stdout",
     "output_type": "stream",
     "text": [
      "Game             A YA YB XA YC YB YB ZB YA XB XC ZB YB YB YB YC...\n",
      " myPick           Y Y X Y Y Y Z Y X X Z Y Y Y Y X Z X Y Y Y X X...\n",
      " OutcomeScore                                                 7320\n",
      " ShapeScore                                                   4586\n",
      " TotalScore                                                  11906\n",
      "dtype: object\n"
     ]
    }
   ],
   "source": [
    "import csv\n",
    "import os\n",
    "import pandas as pd\n",
    "\n",
    "inputData = r\"C:\\...\\encrypted_strategy_guide.csv\"\n",
    "outputCSV = r\"C:\\...\\encrypted_strategy_guide_scores.csv\"\n",
    "\n",
    "f = open(inputData)\n",
    "r = csv.reader(f)\n",
    "headerRow = next(r)\n",
    "outHeader = \"Game, myPick, OutcomeScore, ShapeScore, TotalScore\\n\"\n",
    "outf = open(outputCSV,\"w\")\n",
    "outf.write(outHeader)\n",
    "for ln in r:\n",
    "    #print(ln[0])\n",
    "    game = ln[0]\n",
    "    myPick = ln[0][-1]\n",
    "    outscore = outcomeScore[game]\n",
    "    sscore = shapeScore[myPick]\n",
    "    #print(f\"{game}, {myPick}, {outscore}, {sscore}, {outscore +sscore }\")\n",
    "    outf.write(f\"{game}, {myPick}, {outscore}, {sscore}, {outscore +sscore }\\n\")\n",
    "\n",
    "outf.close()\n",
    "#os.popen(outputCSV)\n",
    "\n",
    "df = pd.read_csv(outputCSV)\n",
    "df.head()\n",
    "Total = df.sum()\n",
    "print(Total)"
   ]
  },
  {
   "cell_type": "code",
   "execution_count": 4,
   "metadata": {},
   "outputs": [],
   "source": [
    "# X means you need to lose, Y means you need to end the round in a draw, and Z means you need to win.\n",
    "updatedOutcomeScore = {\n",
    "    'X':0, # lose\n",
    "    'Y':3, # draw\n",
    "    'Z':6, # win\n",
    "    }\n",
    "\n",
    "updatedShapeScore = {\n",
    "    'A X':3, # rock, lose -> scissors (3)\n",
    "    'A Y':1, # rock, draw -> rock (1)\n",
    "    'A Z':2, # rock, win -> paper (2)\n",
    "    'B X':1, # paper, lose -> rock\n",
    "    'B Y':2, # paper, draw -> paper\n",
    "    'B Z':3, # paper, win -> scissors\n",
    "    'C X':2, #scissors, lose -> paper\n",
    "    'C Y':3, #scissors, draw - scissors\n",
    "    'C Z':1 #scissors, win -> rock\n",
    "    \n",
    "}"
   ]
  },
  {
   "cell_type": "code",
   "execution_count": 5,
   "metadata": {},
   "outputs": [
    {
     "name": "stdout",
     "output_type": "stream",
     "text": [
      "Game             A YA YB XA YC YB YB ZB YA XB XC ZB YB YB YB YC...\n",
      " outcome          Y Y X Y Y Y Z Y X X Z Y Y Y Y X Z X Y Y Y X X...\n",
      " OutcomeScore                                                 6258\n",
      " ShapeScore                                                   4928\n",
      " TotalScore                                                  11186\n",
      "dtype: object\n"
     ]
    }
   ],
   "source": [
    "import csv\n",
    "import os\n",
    "import pandas as pd\n",
    "\n",
    "inputData = r\"C:\\...\\encrypted_strategy_guide.csv\"\n",
    "outputCSV = r\"C:\\...\\encrypted_strategy_guide_scores_updated.csv\"\n",
    "\n",
    "f = open(inputData)\n",
    "r = csv.reader(f)\n",
    "headerRow = next(r)\n",
    "outHeader = \"Game, outcome, OutcomeScore, ShapeScore, TotalScore\\n\"\n",
    "outf = open(outputCSV,\"w\")\n",
    "outf.write(outHeader)\n",
    "for ln in r:\n",
    "    #print(ln[0])\n",
    "    game = ln[0]\n",
    "    outcome = ln[0][-1]\n",
    "    outscore = updatedOutcomeScore[outcome]\n",
    "    sscore = updatedShapeScore[game]\n",
    "    #print(f\"{game}, {outcome}, {outscore}, {sscore}, {outscore +sscore }\")\n",
    "    outf.write(f\"{game}, {outcome}, {outscore}, {sscore}, {outscore +sscore }\\n\")\n",
    "\n",
    "outf.close()\n",
    "# os.popen(outputCSV)\n",
    "\n",
    "df = pd.read_csv(outputCSV)\n",
    "df.head()\n",
    "Total = df.sum()\n",
    "print(Total)"
   ]
  }
 ],
 "metadata": {
  "kernelspec": {
   "display_name": "ArcGISPro",
   "language": "Python",
   "name": "python3"
  },
  "language_info": {
   "file_extension": ".py",
   "name": "python",
   "version": "3"
  }
 },
 "nbformat": 4,
 "nbformat_minor": 2
}
